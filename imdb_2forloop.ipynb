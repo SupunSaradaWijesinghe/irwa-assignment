{
  "nbformat": 4,
  "nbformat_minor": 0,
  "metadata": {
    "colab": {
      "provenance": [],
      "authorship_tag": "ABX9TyMtWhZQnST8914e/06AZHaC",
      "include_colab_link": true
    },
    "kernelspec": {
      "name": "python3",
      "display_name": "Python 3"
    },
    "language_info": {
      "name": "python"
    }
  },
  "cells": [
    {
      "cell_type": "markdown",
      "metadata": {
        "id": "view-in-github",
        "colab_type": "text"
      },
      "source": [
        "<a href=\"https://colab.research.google.com/github/SupunSaradaWijesinghe/irwa-assignment/blob/main/imdb_2forloop.ipynb\" target=\"_parent\"><img src=\"https://colab.research.google.com/assets/colab-badge.svg\" alt=\"Open In Colab\"/></a>"
      ]
    },
    {
      "cell_type": "code",
      "execution_count": null,
      "metadata": {
        "id": "nG5kP9xY5cjY"
      },
      "outputs": [],
      "source": [
        "#import libraries that you want\n",
        "import requests\n",
        "import lxml\n",
        "from bs4 import BeautifulSoup\n",
        "from xlwt import *"
      ]
    },
    {
      "cell_type": "code",
      "source": [
        "#Get the url to a variable\n",
        "url = \"https://www.imdb.com/chart/top/\"\n",
        "\n",
        "#If server has any problem, use below code segment\n",
        "headers = {\n",
        "  'User-Agent': 'Mozilla/5.0 (Windows NT 6.1; WOW64) AppleWebKit/537.36 (KHTML, like Gecko) Chrome/63.0.3239.132 Safari/537.36 QIHU 360SE'\n",
        "}\n",
        "#Get the response from the url, it will be a status code(like 200)"
      ],
      "metadata": {
        "id": "-N17XPnp5g_p"
      },
      "execution_count": null,
      "outputs": []
    },
    {
      "cell_type": "code",
      "source": [
        "f = requests.get(url, headers)\n",
        "\n",
        "#Create a list\n",
        "movies_lst = []\n",
        "\n",
        "#Get the content to a variable from the response(bcz we have used requests methods) using BeautifulSoup\n",
        "#In the BeautifulStoneSoup, parameters are (response.content, 'lxml')\n",
        "#lxml means it will allow both xml and html formats\n",
        "soup = BeautifulSoup(f.content, 'lxml')\n",
        "\n",
        "#Now we have content, using the content we have to access the data what we want and get into a variable.\n",
        "#To access the data using content we have to pass the element.\n",
        "#And also the unique value(JSON format) to the content.find or find_all method\n",
        "movies = soup.find('table', {'data-caller-name':'chart-top250movie'}).find_all('tr')\n",
        "num = 0\n",
        "\n",
        "\n",
        "workbook = Workbook(encoding = 'utf-8')\n",
        "table = workbook.add_sheet('data')\n",
        "table.write(0, 0, 'Number')\n",
        "table.write(0, 1, 'movie_url')\n",
        "table.write(0, 2, 'movie_name')\n",
        "table.write(0, 3, 'movie_introduction')\n",
        "line = 1\n",
        "\n",
        "for each_tr in movies:\n",
        "  td = each_tr.find_all('td', {'class' : 'titleColumn'})\n",
        "  for each_td in td:\n",
        "    #Get the absolute url\n",
        "    ulink = each_td.a['href']\n",
        "\n",
        "    url = 'https://www.imdb.com' + ulink\n",
        "    movies_lst.append(url)\n",
        "    num += 1\n",
        "    movie_url = url\n",
        "    movie_f = requests.get(movie_url, headers = headers)\n",
        "    movie_soup = BeautifulSoup(movie_f.content, 'lxml')\n",
        "    movie_content = movie_soup.find('span', {'data-testid':'plot-xl'})\n",
        "    movie_title = movie_soup.find('h1')\n",
        "    table.write(line, 0, num)\n",
        "    table.write(line, 1, url)\n",
        "    table.write(line, 2, movie_title.string.strip())\n",
        "    table.write(line, 3, movie_content.string.strip())\n",
        "    line += 1\n",
        "    workbook.save('movies_top.xls')"
      ],
      "metadata": {
        "id": "wPKWq2fX6aUv"
      },
      "execution_count": null,
      "outputs": []
    }
  ]
}