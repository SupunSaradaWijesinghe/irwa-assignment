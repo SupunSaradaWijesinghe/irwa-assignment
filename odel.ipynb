{
  "nbformat": 4,
  "nbformat_minor": 0,
  "metadata": {
    "colab": {
      "provenance": [],
      "authorship_tag": "ABX9TyNHVikj13icV13uqMnXa7OZ",
      "include_colab_link": true
    },
    "kernelspec": {
      "name": "python3",
      "display_name": "Python 3"
    },
    "language_info": {
      "name": "python"
    }
  },
  "cells": [
    {
      "cell_type": "markdown",
      "metadata": {
        "id": "view-in-github",
        "colab_type": "text"
      },
      "source": [
        "<a href=\"https://colab.research.google.com/github/SupunSaradaWijesinghe/irwa-assignment/blob/main/odel.ipynb\" target=\"_parent\"><img src=\"https://colab.research.google.com/assets/colab-badge.svg\" alt=\"Open In Colab\"/></a>"
      ]
    },
    {
      "cell_type": "code",
      "execution_count": 3,
      "metadata": {
        "id": "67xjrIwsUUFp"
      },
      "outputs": [],
      "source": [
        "#import libraries\n",
        "import requests\n",
        "from bs4 import BeautifulSoup\n",
        "import lxml\n",
        "from xlwt import *\n",
        "\n",
        "#workbook defining\n",
        "workbook = Workbook(encoding = 'utf-8')\n",
        "table = workbook.add_sheet('data')\n",
        "\n",
        "#creation of headers\n",
        "table.write(0, 0, 'Product Number')\n",
        "table.write(0, 1, 'Product Name')\n",
        "table.write(0, 2, 'New Price')\n",
        "table.write(0, 3, 'Old Price')\n",
        "table.write(0, 4, 'Discount')\n",
        "line = 1\n",
        "\n",
        "#define the URL  and the header\n",
        "url  = \"https://odel.lk/deal-products\"\n",
        "headers = {\n",
        "    'User-Agent': 'Mozilla/5.0 (Windows NT 6.1; WOW64) AppleWebKit/537.36 (KHTML, like Gecko) Chrome/63.0.3239.132 Safari/537.36 QIHU 360SE'\n",
        "}\n",
        "\n",
        "#get the url\n",
        "f = requests.get(url, headers = headers)\n",
        "\n",
        "#parsing\n",
        "soup = BeautifulSoup(f.content,'lxml')\n",
        "#print(soup)\n",
        "\n",
        "#extract information\n",
        "#products = soup.find('div',{'class':'container'}).find_all('div',{'class':'col-sm-6 col-md-4 col-lg-3 p-b-35 product-tile-search'})\n",
        "#print(products)\n",
        "products = soup.find_all('div',{'class':'col-sm-6 col-md-4 col-lg-3 p-b-35 product-tile-search'})\n",
        "\n",
        "num = 0\n",
        "product_list = []\n",
        "\n",
        "for product in products:\n",
        "  num += 1\n",
        "  #print(num)\n",
        "\n",
        "  productName = product.find('div',{'class':'block2'}).find('a',{'class':'stext-104 cl4 hov-cl1 trans-04 js-name-b2 p-b-6'}).string.strip()\n",
        "  #print(productName)\n",
        "\n",
        "  newPrice = product.find('div',{'class':'block2'}).find('span',{'class':'stext-105 cl3'}).string.strip()\n",
        "  #print(newPrice)\n",
        "\n",
        "  oldPrice = product.find('div',{'class':'block2'}).find('del').string.strip()\n",
        "  #print(oldPrice)\n",
        "\n",
        "  discount = product.find('div',{'class':'block2'}).find('div',{'class':'product_tag_discount'}).string.strip()\n",
        "  #print(discount)\n",
        "\n",
        "  line += 1\n",
        "\n",
        "  table.write(line, 0, num)\n",
        "  table.write(line, 1, productName)\n",
        "  table.write(line, 2, newPrice)\n",
        "  table.write(line, 3, oldPrice)\n",
        "  table.write(line, 4, discount)\n",
        "\n",
        "  workbook.save('odel-deal-products2.xls')"
      ]
    },
    {
      "cell_type": "code",
      "source": [],
      "metadata": {
        "id": "MV5yqEGuVaRj"
      },
      "execution_count": null,
      "outputs": []
    }
  ]
}