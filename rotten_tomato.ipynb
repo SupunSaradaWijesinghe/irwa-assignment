{
  "nbformat": 4,
  "nbformat_minor": 0,
  "metadata": {
    "colab": {
      "provenance": [],
      "authorship_tag": "ABX9TyOUjnG4ROH0Jyl1lCVJa4zo",
      "include_colab_link": true
    },
    "kernelspec": {
      "name": "python3",
      "display_name": "Python 3"
    },
    "language_info": {
      "name": "python"
    }
  },
  "cells": [
    {
      "cell_type": "markdown",
      "metadata": {
        "id": "view-in-github",
        "colab_type": "text"
      },
      "source": [
        "<a href=\"https://colab.research.google.com/github/SupunSaradaWijesinghe/irwa-assignment/blob/main/rotten_tomato.ipynb\" target=\"_parent\"><img src=\"https://colab.research.google.com/assets/colab-badge.svg\" alt=\"Open In Colab\"/></a>"
      ]
    },
    {
      "cell_type": "code",
      "execution_count": 5,
      "metadata": {
        "id": "BWgXPdAk1DSc"
      },
      "outputs": [],
      "source": [
        "import requests\n",
        "import lxml\n",
        "from bs4 import BeautifulSoup\n",
        "from xlwt import *"
      ]
    },
    {
      "cell_type": "code",
      "source": [
        "workbook = Workbook(encoding = 'utf-8')\n",
        "table = workbook.add_sheet('data')\n",
        "table.write(0, 0, 'M_Number')\n",
        "table.write(0, 1, 'movie_url')\n",
        "table.write(0, 2, 'movie_name')\n",
        "table.write(0, 3, 'movie_introduction')\n",
        "line = 1"
      ],
      "metadata": {
        "id": "ToDpzdfb1cR2"
      },
      "execution_count": 6,
      "outputs": []
    },
    {
      "cell_type": "code",
      "source": [
        "url = \"https://www.rottentomatoes.com/browse/movies_at_home/critics:certified_fresh?page=1\"\n",
        "headers = {\n",
        "  'User-Agent': 'Mozilla/5.0 (Windows NT 6.1; WOW64) AppleWebKit/537.36 (KHTML, like Gecko) Chrome/63.0.3239.132 Safari/537.36 QIHU 360SE'\n",
        "}"
      ],
      "metadata": {
        "id": "wIyquuXp1rMd"
      },
      "execution_count": 7,
      "outputs": []
    },
    {
      "cell_type": "code",
      "source": [
        "source = requests.get(url, headers = headers)\n",
        "movies_lst = []\n",
        "soup = BeautifulSoup(source.content, 'lxml')\n",
        "movies = soup.find('div', {'class': 'discovery-grids-container'}).find_all('a')\n",
        "num = 0\n",
        "\n",
        "for anchor in movies:\n",
        "  urls = 'https://www.rottentomatoes.com' + anchor['href']\n",
        "  movies_lst.append(urls)\n",
        "  num += 1\n",
        "  movie_url = urls\n",
        "  movie_f = requests.get(movie_url, headers = headers)\n",
        "  movie_soup = BeautifulSoup(movie_f.content, 'lxml')\n",
        "  movie_content = movie_soup.find('div', {'class': 'movie_synopsis clamp clamp-6 js-clamp'})\n",
        "  movie_name = movie_soup.find(['h1'])\n",
        "  #print(num, urls, '\\n', 'Movie:' + anchor.string.strip())\n",
        "  #print('Movie info:' + movie_content.string.strip())\n",
        "  table.write(line, 0, num)\n",
        "  table.write(line, 1, urls)\n",
        "  table.write(line, 2, *movie_name)\n",
        "  table.write(line, 3, movie_content.string.strip())\n",
        "  line += 1\n",
        "  workbook.save('movies_top100_rotten_v4.xls')"
      ],
      "metadata": {
        "id": "unh0mJ1d1wY8"
      },
      "execution_count": 8,
      "outputs": []
    }
  ]
}